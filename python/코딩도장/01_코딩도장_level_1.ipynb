{
 "cells": [
  {
   "cell_type": "markdown",
   "id": "fea6391d-6441-4840-894a-6d7e5242967a",
   "metadata": {},
   "source": [
    "# 코딩도장 레벨.1\n",
    "- 링크: [코딩도장 레벨.1](https://codingdojang.com/list/1?sort=level&sort_order=fw) \n"
   ]
  },
  {
   "cell_type": "markdown",
   "id": "3e2080dd-00e0-4990-9f8a-b84eaf5ce7d7",
   "metadata": {},
   "source": [
    "### Multiples of 3 and 5\n",
    "\n",
    "10미만의 자연수에서 3과 5의 배수를 구하면 3,5,6,9이다.   \n",
    "이들의 총합은 23이다.  \n",
    "1000미만의 자연수에서 3,5의 배수의 총합을 구하라.  "
   ]
  },
  {
   "cell_type": "code",
   "execution_count": 3,
   "id": "557fea92-0948-4e35-a5fe-1b3a8ba3db2f",
   "metadata": {},
   "outputs": [
    {
     "data": {
      "text/plain": [
       "233168"
      ]
     },
     "execution_count": 3,
     "metadata": {},
     "output_type": "execute_result"
    }
   ],
   "source": [
    "sum([x for x in range(1000) if not(x%3 and x%5)])"
   ]
  },
  {
   "cell_type": "markdown",
   "id": "61cd5215-d5e6-4b0c-ae1b-0274069bb4a8",
   "metadata": {},
   "source": [
    "### 탭을 공백 문자로 바꾸기\n",
    "A씨는 개발된 소스코드를 특정업체에 납품하려고 한다.  \n",
    "개발된 소스코드들은 탭으로 들여쓰기가 된것, 공백으로 들여쓰기가 된 것들이 섞여 있다고 한다.  \n",
    "A씨는 탭으로 들여쓰기가 된 모든 소스를 공백 4개로 수정한 후 납품할 예정이다.  \n",
    "A씨를 도와줄 수 있도록 소스코드내에 사용된 탭(Tab) 문자를 공백 4개(4 space)로 바꾸어 주는 프로그램을 작성하시오.  "
   ]
  },
  {
   "cell_type": "code",
   "execution_count": 65,
   "id": "6d43aea1-01af-4781-afb0-7c2143887996",
   "metadata": {},
   "outputs": [],
   "source": [
    "indentTab2space = lambda x,w: len(x.split())>0 and x[:x.find(x.split()[0])].replace('\\t',' '*w)+x[x.find(x.split()[0]):] or ''"
   ]
  },
  {
   "cell_type": "code",
   "execution_count": 66,
   "id": "d6bc0d8a-711a-436a-b3b0-4bbd4f85a30b",
   "metadata": {},
   "outputs": [
    {
     "name": "stdout",
     "output_type": "stream",
     "text": [
      "         if 조건: print(\" 테스트 탭\t테스트 \")\n"
     ]
    }
   ],
   "source": [
    "print(indentTab2space('\\t \\tif 조건: print(\" 테스트 탭\\t테스트 \")', 4))"
   ]
  },
  {
   "cell_type": "code",
   "execution_count": 67,
   "id": "5ced3788-c905-4bfd-b5ba-6839dea022cb",
   "metadata": {},
   "outputs": [
    {
     "name": "stdout",
     "output_type": "stream",
     "text": [
      "if 조건: print(\" 테스트 탭\t테스트 \")\n"
     ]
    }
   ],
   "source": [
    "print(indentTab2space('if 조건: print(\" 테스트 탭\\t테스트 \")', 4))"
   ]
  },
  {
   "cell_type": "code",
   "execution_count": 68,
   "id": "50b6f80f-4b1e-4f5b-b263-6fb24b4858cd",
   "metadata": {},
   "outputs": [
    {
     "name": "stdout",
     "output_type": "stream",
     "text": [
      "\n"
     ]
    }
   ],
   "source": [
    "print(indentTab2space('', 4))"
   ]
  },
  {
   "cell_type": "markdown",
   "id": "1208b2f3-09a9-4f99-9933-95aa1a91108d",
   "metadata": {},
   "source": [
    "### 게시판 페이징\n",
    "A씨는 게시판 프로그램을 작성하고 있다.  \n",
    "A씨는 게시물의 총 건수와 한 페이지에 보여줄 게시물수를 입력으로 주었을 때 총 페이지수를 리턴하는 프로그램이 필요하다고 한다.  \n",
    "\n",
    "> 입력 : 총건수(m), 한페이지에 보여줄 게시물수(n) (단 n은 1보다 크거나 같다. n >= 1)  \n",
    "> 출력 : 총페이지수  \n",
    "\n",
    "A씨가 필요한 프로그램을 작성하시오.  "
   ]
  },
  {
   "cell_type": "code",
   "execution_count": 69,
   "id": "030e7946-15dc-4b4f-8d64-770b2f9cd7e7",
   "metadata": {},
   "outputs": [],
   "source": [
    "getTotalPageNum = lambda m,n=1: m<1 and 0 or m%n and m//n+1 or m//n"
   ]
  },
  {
   "cell_type": "code",
   "execution_count": 70,
   "id": "1acc7afd-4d00-4186-b679-93dd4998b1a6",
   "metadata": {},
   "outputs": [
    {
     "name": "stdout",
     "output_type": "stream",
     "text": [
      "0 1 0\n",
      "1 1 1\n",
      "2 1 2\n",
      "1 10 1\n",
      "10 10 1\n",
      "11 10 2\n"
     ]
    }
   ],
   "source": [
    "for m,n in [[0,1],[1,1],[2,1],[1,10],[10,10],[11,10]]:\n",
    "    print(m,n, getTotalPageNum(m,n))"
   ]
  },
  {
   "cell_type": "markdown",
   "id": "8b036b00-de4d-4852-8cb8-52e0648ba346",
   "metadata": {},
   "source": [
    "### 사이냅소프트 면접문제\n",
    "주어진 문자열(공백 없이 쉼표로 구분되어 있음)을 가지고 아래 문제에 대한 프로그램을 작성하세요.  \n",
    "\n",
    "> 이유덕,이재영,권종표,이재영,박민호,강상희,이재영,김지완,최승혁,이성연,박영서,박민호,전경헌,송정환,김재성,이유덕,전경헌\n",
    "\n",
    "1. 김씨와 이씨는 각각 몇 명 인가요?  \n",
    "1. \"이재영\"이란 이름이 몇 번 반복되나요?  \n",
    "1. 중복을 제거한 이름을 출력하세요.  \n",
    "1. 중복을 제거한 이름을 오름차순으로 정렬하여 출력하세요."
   ]
  },
  {
   "cell_type": "code",
   "execution_count": 29,
   "id": "91e3f0c2-3118-4614-90b4-6b29aa27fbc1",
   "metadata": {},
   "outputs": [
    {
     "name": "stdout",
     "output_type": "stream",
     "text": [
      "1. 김씨: 2명, 이씨: 6명\n",
      "2. 이재영: 3명\n",
      "3. 중복제거이름: ['강상희', '이재영', '박민호', '이유덕', '김재성', '최승혁', '김지완', '이성연', '송정환', '권종표', '전경헌', '박영서']\n",
      "4. 중복제거이름 오름차순 정렬: ['강상희', '권종표', '김재성', '김지완', '박민호', '박영서', '송정환', '이성연', '이유덕', '이재영', '전경헌', '최승혁']\n"
     ]
    }
   ],
   "source": [
    "name = '이유덕,이재영,권종표,이재영,박민호,강상희,이재영,김지완,최승혁,이성연,박영서,박민호,전경헌,송정환,김재성,이유덕,전경헌'\n",
    "\n",
    "cntStartswith = lambda x: sum([n.startswith(x) for n in name.split(',')])\n",
    "print(f\"1. 김씨: {cntStartswith('김')}명, 이씨: {cntStartswith('이')}명\")\n",
    "print(f\"2. 이재영: {cntStartswith('이재영')}명\")\n",
    "print(f\"3. 중복제거이름: {list(set(name.split(',')))}\")\n",
    "print(f\"4. 중복제거이름 오름차순 정렬: {sorted(list(set(name.split(','))))}\")"
   ]
  },
  {
   "cell_type": "markdown",
   "id": "b8ed3451-1a5e-4249-94ec-0b2c6706c0e5",
   "metadata": {},
   "source": [
    "### Special Sort\n",
    "n개의 정수를 가진 배열이 있다. 이 배열은 양의정수와 음의 정수를 모두 가지고 있다.  \n",
    "이제 당신은 이 배열을 좀 특별한 방법으로 정렬해야 한다.  \n",
    "정렬이 되고 난 후, 음의 정수는 앞쪽에 양의정수는 뒷쪽에 있어야 한다.  \n",
    "또한 양의정수와 음의정수의 순서에는 변함이 없어야 한다.  \n",
    "> 예. -1 1 3 -2 2  \n",
    "> ans: -1 -2 1 3 2"
   ]
  },
  {
   "cell_type": "code",
   "execution_count": 52,
   "id": "2c2e9cae-c83b-4c02-af92-1eae7b04fb8d",
   "metadata": {},
   "outputs": [
    {
     "name": "stdout",
     "output_type": "stream",
     "text": [
      "ex: [-1, 1, 3, -2, 2] \t ans: [-1, -2, 1, 3, 2]\n"
     ]
    }
   ],
   "source": [
    "ex = [-1,1,3,-2,2]\n",
    "r1, r2 = [], []\n",
    "_ = [ r1.append(x) if x<0 else r2.append(x) for x in ex ]\n",
    "print(f\"ex: {ex} \\t ans: {r1+r2}\")"
   ]
  },
  {
   "cell_type": "markdown",
   "id": "aa85a6a4-b5fa-4553-958e-fa3f8ef3ef76",
   "metadata": {},
   "source": [
    "### 피보나치 수열 구하기\n",
    "피보나치 수열이란, 첫 번째 항의 값이 0이고 두 번째 항의 값이 1일 때, 이후의 항들은 이전의 두 항을 더한 값으로 이루어지는 수열을 말한다.\n",
    "\n",
    "> 예) 0, 1, 1, 2, 3, 5, 8, 13\n",
    "\n",
    "인풋을 정수 n으로 받았을때, n 이하까지의 피보나치 수열을 출력하는 프로그램을 작성하세요"
   ]
  },
  {
   "cell_type": "code",
   "execution_count": 65,
   "id": "c3a68957-32d8-488f-803a-ba0fa2459e5f",
   "metadata": {},
   "outputs": [
    {
     "data": {
      "text/plain": [
       "[0, 1, 1, 2, 3, 5, 8, 13, 21, 34]"
      ]
     },
     "execution_count": 65,
     "metadata": {},
     "output_type": "execute_result"
    }
   ],
   "source": [
    "def fibo(n): r = [0,1]; [r.append(r[i-2]+r[i-1]) for i in range(2,n)]; return r;\n",
    "fibo(10)"
   ]
  },
  {
   "cell_type": "markdown",
   "id": "0d0d5f5d-6dcf-4878-801e-78149305012a",
   "metadata": {},
   "source": [
    "### 3이 나타나는 시간을 전부 합하면?\n",
    "디지털 시계에 하루동안(`00:00~23:59`) 3이 표시되는 시간을 초로 환산하면 총 몇 초(second) 일까요?  \n",
    "디지털 시계는 하루동안 다음과 같이 시:분(`00:00~23:59`)으로 표시됩니다.  \n",
    "\n",
    "> 00:00 (60초간 표시됨)  \n",
    "> 00:01   \n",
    "> 00:02   \n",
    "> ...  \n",
    "> 23:59  "
   ]
  },
  {
   "cell_type": "code",
   "execution_count": 94,
   "id": "a77a46fa-5efe-40d9-a806-43e2882dd201",
   "metadata": {},
   "outputs": [
    {
     "data": {
      "text/plain": [
       "29700"
      ]
     },
     "execution_count": 94,
     "metadata": {},
     "output_type": "execute_result"
    }
   ],
   "source": [
    "hasThree = lambda x: f\"{x:02}\".find('3')>=0\n",
    "sum([60*60 if hasThree(h) else sum([60 for m in range(60) if hasThree(m)]) for h in range(24)])"
   ]
  },
  {
   "cell_type": "code",
   "execution_count": null,
   "id": "9d418310-58e3-4862-9b2d-913181c0b19f",
   "metadata": {},
   "outputs": [],
   "source": []
  }
 ],
 "metadata": {
  "kernelspec": {
   "display_name": "Python 3 (ipykernel)",
   "language": "python",
   "name": "python3"
  },
  "language_info": {
   "codemirror_mode": {
    "name": "ipython",
    "version": 3
   },
   "file_extension": ".py",
   "mimetype": "text/x-python",
   "name": "python",
   "nbconvert_exporter": "python",
   "pygments_lexer": "ipython3",
   "version": "3.12.5"
  }
 },
 "nbformat": 4,
 "nbformat_minor": 5
}
