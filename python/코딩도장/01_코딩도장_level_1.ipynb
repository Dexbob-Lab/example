{
 "cells": [
  {
   "cell_type": "markdown",
   "id": "fea6391d-6441-4840-894a-6d7e5242967a",
   "metadata": {},
   "source": [
    "# 코딩도장 레벨.1\n",
    "- 링크: [코딩도장 레벨.1](https://codingdojang.com/list/1?sort=level&sort_order=fw) \n"
   ]
  },
  {
   "cell_type": "markdown",
   "id": "3e2080dd-00e0-4990-9f8a-b84eaf5ce7d7",
   "metadata": {},
   "source": [
    "### Multiples of 3 and 5\n",
    "\n",
    "10미만의 자연수에서 3과 5의 배수를 구하면 3,5,6,9이다.   \n",
    "이들의 총합은 23이다.  \n",
    "1000미만의 자연수에서 3,5의 배수의 총합을 구하라.  "
   ]
  },
  {
   "cell_type": "code",
   "execution_count": 3,
   "id": "557fea92-0948-4e35-a5fe-1b3a8ba3db2f",
   "metadata": {},
   "outputs": [
    {
     "data": {
      "text/plain": [
       "233168"
      ]
     },
     "execution_count": 3,
     "metadata": {},
     "output_type": "execute_result"
    }
   ],
   "source": [
    "sum([x for x in range(1000) if not(x%3 and x%5)])"
   ]
  },
  {
   "cell_type": "markdown",
   "id": "61cd5215-d5e6-4b0c-ae1b-0274069bb4a8",
   "metadata": {},
   "source": [
    "### 탭을 공백 문자로 바꾸기\n",
    "A씨는 개발된 소스코드를 특정업체에 납품하려고 한다.  \n",
    "개발된 소스코드들은 탭으로 들여쓰기가 된것, 공백으로 들여쓰기가 된 것들이 섞여 있다고 한다.  \n",
    "A씨는 탭으로 들여쓰기가 된 모든 소스를 공백 4개로 수정한 후 납품할 예정이다.  \n",
    "A씨를 도와줄 수 있도록 소스코드내에 사용된 탭(Tab) 문자를 공백 4개(4 space)로 바꾸어 주는 프로그램을 작성하시오.  "
   ]
  },
  {
   "cell_type": "code",
   "execution_count": 65,
   "id": "6d43aea1-01af-4781-afb0-7c2143887996",
   "metadata": {},
   "outputs": [],
   "source": [
    "indentTab2space = lambda x,w: len(x.split())>0 and x[:x.find(x.split()[0])].replace('\\t',' '*w)+x[x.find(x.split()[0]):] or ''"
   ]
  },
  {
   "cell_type": "code",
   "execution_count": 66,
   "id": "d6bc0d8a-711a-436a-b3b0-4bbd4f85a30b",
   "metadata": {},
   "outputs": [
    {
     "name": "stdout",
     "output_type": "stream",
     "text": [
      "         if 조건: print(\" 테스트 탭\t테스트 \")\n"
     ]
    }
   ],
   "source": [
    "print(indentTab2space('\\t \\tif 조건: print(\" 테스트 탭\\t테스트 \")', 4))"
   ]
  },
  {
   "cell_type": "code",
   "execution_count": 67,
   "id": "5ced3788-c905-4bfd-b5ba-6839dea022cb",
   "metadata": {},
   "outputs": [
    {
     "name": "stdout",
     "output_type": "stream",
     "text": [
      "if 조건: print(\" 테스트 탭\t테스트 \")\n"
     ]
    }
   ],
   "source": [
    "print(indentTab2space('if 조건: print(\" 테스트 탭\\t테스트 \")', 4))"
   ]
  },
  {
   "cell_type": "code",
   "execution_count": 68,
   "id": "50b6f80f-4b1e-4f5b-b263-6fb24b4858cd",
   "metadata": {},
   "outputs": [
    {
     "name": "stdout",
     "output_type": "stream",
     "text": [
      "\n"
     ]
    }
   ],
   "source": [
    "print(indentTab2space('', 4))"
   ]
  },
  {
   "cell_type": "markdown",
   "id": "1208b2f3-09a9-4f99-9933-95aa1a91108d",
   "metadata": {},
   "source": [
    "### 게시판 페이징\n",
    "A씨는 게시판 프로그램을 작성하고 있다.  \n",
    "A씨는 게시물의 총 건수와 한 페이지에 보여줄 게시물수를 입력으로 주었을 때 총 페이지수를 리턴하는 프로그램이 필요하다고 한다.  \n",
    "\n",
    "> 입력 : 총건수(m), 한페이지에 보여줄 게시물수(n) (단 n은 1보다 크거나 같다. n >= 1)  \n",
    "> 출력 : 총페이지수  \n",
    "\n",
    "A씨가 필요한 프로그램을 작성하시오.  "
   ]
  },
  {
   "cell_type": "code",
   "execution_count": 69,
   "id": "030e7946-15dc-4b4f-8d64-770b2f9cd7e7",
   "metadata": {},
   "outputs": [],
   "source": [
    "getTotalPageNum = lambda m,n=1: m<1 and 0 or m%n and m//n+1 or m//n"
   ]
  },
  {
   "cell_type": "code",
   "execution_count": 70,
   "id": "1acc7afd-4d00-4186-b679-93dd4998b1a6",
   "metadata": {},
   "outputs": [
    {
     "name": "stdout",
     "output_type": "stream",
     "text": [
      "0 1 0\n",
      "1 1 1\n",
      "2 1 2\n",
      "1 10 1\n",
      "10 10 1\n",
      "11 10 2\n"
     ]
    }
   ],
   "source": [
    "for m,n in [[0,1],[1,1],[2,1],[1,10],[10,10],[11,10]]:\n",
    "    print(m,n, getTotalPageNum(m,n))"
   ]
  },
  {
   "cell_type": "code",
   "execution_count": null,
   "id": "2e946bdf-3607-4ab2-9841-4357a4401762",
   "metadata": {},
   "outputs": [],
   "source": []
  }
 ],
 "metadata": {
  "kernelspec": {
   "display_name": "Python 3 (ipykernel)",
   "language": "python",
   "name": "python3"
  },
  "language_info": {
   "codemirror_mode": {
    "name": "ipython",
    "version": 3
   },
   "file_extension": ".py",
   "mimetype": "text/x-python",
   "name": "python",
   "nbconvert_exporter": "python",
   "pygments_lexer": "ipython3",
   "version": "3.12.5"
  }
 },
 "nbformat": 4,
 "nbformat_minor": 5
}
