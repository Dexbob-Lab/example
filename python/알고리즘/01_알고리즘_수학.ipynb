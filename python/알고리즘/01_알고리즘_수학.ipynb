{
 "cells": [
  {
   "cell_type": "markdown",
   "id": "9da30cd5-3ca9-46ef-ade0-6408aebdb7bd",
   "metadata": {
    "editable": true,
    "slideshow": {
     "slide_type": ""
    },
    "tags": []
   },
   "source": [
    "## 약수"
   ]
  },
  {
   "cell_type": "markdown",
   "id": "21001d25-be09-4b4d-8167-f7b8258c6b2c",
   "metadata": {},
   "source": [
    "### 방법1. 나누어 0 이 되는 수의 모음 (N 의 약수는 N 번 반복 필요)"
   ]
  },
  {
   "cell_type": "code",
   "execution_count": 35,
   "id": "e7fc14c5-f1a1-420a-98f0-d25b10977c8d",
   "metadata": {},
   "outputs": [
    {
     "data": {
      "text/plain": [
       "[1, 2, 4, 5, 8, 10, 20, 25, 40, 50, 100, 125, 200, 250, 500, 1000]"
      ]
     },
     "execution_count": 35,
     "metadata": {},
     "output_type": "execute_result"
    }
   ],
   "source": [
    "divisor = lambda n: [i for i in range(1,n+1) if not(n%i)]\n",
    "divisor(1000)"
   ]
  },
  {
   "cell_type": "markdown",
   "id": "d772a1ff-3ffe-49ca-be28-e5eb399fb787",
   "metadata": {},
   "source": [
    "### 방법2. 반복회수를 줄이는 방법 (N 의 제곱근까지 구하고, 거기에 구한 수를 나눈 값도 포함)"
   ]
  },
  {
   "cell_type": "code",
   "execution_count": 36,
   "id": "d0854ed4-08f8-4662-841b-083925c7c3bb",
   "metadata": {},
   "outputs": [
    {
     "data": {
      "text/plain": [
       "{1, 2, 4, 5, 8, 10, 20, 25, 40, 50, 100, 125, 200, 250, 500, 1000}"
      ]
     },
     "execution_count": 36,
     "metadata": {},
     "output_type": "execute_result"
    }
   ],
   "source": [
    "def divisor(n): \n",
    "    d=[i for i in range(1,int(n**.5)+1) if not(n%i)]\n",
    "    return set(d).union([int(n/i) for i in d])\n",
    "divisor(1000)\n"
   ]
  },
  {
   "cell_type": "markdown",
   "id": "4e15102a-8e44-45ad-855c-4f8bef2fcc70",
   "metadata": {},
   "source": [
    "## 최대공약수"
   ]
  },
  {
   "cell_type": "markdown",
   "id": "257cbf69-30cd-4f61-a419-1eccd4a76488",
   "metadata": {},
   "source": [
    "### 방법1."
   ]
  },
  {
   "cell_type": "code",
   "execution_count": 1,
   "id": "53dd3041-5dc1-4f2d-9d4f-aeb726cbf810",
   "metadata": {},
   "outputs": [
    {
     "ename": "ModuleNotFoundError",
     "evalue": "No module named 'matplotlib'",
     "output_type": "error",
     "traceback": [
      "\u001b[1;31m---------------------------------------------------------------------------\u001b[0m",
      "\u001b[1;31mModuleNotFoundError\u001b[0m                       Traceback (most recent call last)",
      "Cell \u001b[1;32mIn[1], line 1\u001b[0m\n\u001b[1;32m----> 1\u001b[0m \u001b[38;5;28;01mimport\u001b[39;00m \u001b[38;5;21;01mmatplotlib\u001b[39;00m\u001b[38;5;21;01m.\u001b[39;00m\u001b[38;5;21;01mfont_manager\u001b[39;00m \u001b[38;5;28;01mas\u001b[39;00m \u001b[38;5;21;01mfm\u001b[39;00m\n\u001b[0;32m      2\u001b[0m [font\u001b[38;5;241m.\u001b[39mname \u001b[38;5;28;01mfor\u001b[39;00m font \u001b[38;5;129;01min\u001b[39;00m fm\u001b[38;5;241m.\u001b[39mfontManager\u001b[38;5;241m.\u001b[39mttflist]\n",
      "\u001b[1;31mModuleNotFoundError\u001b[0m: No module named 'matplotlib'"
     ]
    }
   ],
   "source": [
    "import matplotlib.font_manager as fm\n",
    "[font.name for font in fm.fontManager.ttflist]"
   ]
  },
  {
   "cell_type": "code",
   "execution_count": null,
   "id": "b0b9d623-c9bc-4294-8311-62352a84eb02",
   "metadata": {},
   "outputs": [],
   "source": []
  }
 ],
 "metadata": {
  "kernelspec": {
   "display_name": "Python 3 (ipykernel)",
   "language": "python",
   "name": "python3"
  },
  "language_info": {
   "codemirror_mode": {
    "name": "ipython",
    "version": 3
   },
   "file_extension": ".py",
   "mimetype": "text/x-python",
   "name": "python",
   "nbconvert_exporter": "python",
   "pygments_lexer": "ipython3",
   "version": "3.12.5"
  }
 },
 "nbformat": 4,
 "nbformat_minor": 5
}
