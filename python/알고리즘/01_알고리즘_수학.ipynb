{
 "cells": [
  {
   "cell_type": "markdown",
   "id": "9da30cd5-3ca9-46ef-ade0-6408aebdb7bd",
   "metadata": {
    "editable": true,
    "slideshow": {
     "slide_type": ""
    },
    "tags": []
   },
   "source": [
    "---\n",
    "## 약수 구하기"
   ]
  },
  {
   "cell_type": "markdown",
   "id": "21001d25-be09-4b4d-8167-f7b8258c6b2c",
   "metadata": {},
   "source": [
    "### 방법1. 나눠지는(나머지가 없는) 정수의 모음\n",
    "- 나누어 0 이 되는 수\n",
    "- N 의 약수는 N 번 반복 필요 $=O(N)$"
   ]
  },
  {
   "cell_type": "code",
   "execution_count": 1,
   "id": "e7fc14c5-f1a1-420a-98f0-d25b10977c8d",
   "metadata": {},
   "outputs": [
    {
     "data": {
      "text/plain": [
       "[1, 2, 4, 5, 8, 10, 20, 25, 40, 50, 100, 125, 200, 250, 500, 1000]"
      ]
     },
     "execution_count": 1,
     "metadata": {},
     "output_type": "execute_result"
    }
   ],
   "source": [
    "divisor = lambda n: [i for i in range(1,n+1) if not(n%i)]\n",
    "divisor(1000)"
   ]
  },
  {
   "cell_type": "markdown",
   "id": "d772a1ff-3ffe-49ca-be28-e5eb399fb787",
   "metadata": {},
   "source": [
    "### 방법2. 반복회수 줄이기\n",
    "- N 의 약수는 $\\sqrt{N}$ 번 반복 필요 $=O(\\sqrt{N})$\n",
    "- N 의 제곱근까지 반복하며 약수를 구한다.\n",
    "- sum함수를 이용한 배열의 덧셈은 시스템리소스를 많이 소비한다."
   ]
  },
  {
   "cell_type": "code",
   "execution_count": 2,
   "id": "b23d6b7c-62bf-4a6a-a3ab-b8899cb51680",
   "metadata": {},
   "outputs": [
    {
     "data": {
      "text/plain": [
       "{1, 2, 4, 5, 8, 10, 20, 25, 40, 50, 100, 125, 200, 250, 500, 1000}"
      ]
     },
     "execution_count": 2,
     "metadata": {},
     "output_type": "execute_result"
    }
   ],
   "source": [
    "divisor = lambda n: set(sum([[i,int(n/i)] for i in range(1,int(n**.5)+1) if not(n%i)],[]))\n",
    "divisor(1000)"
   ]
  },
  {
   "cell_type": "markdown",
   "id": "46933a65-0319-45e7-a050-5f3f7f867313",
   "metadata": {},
   "source": [
    "### 방법3. 반복회수 줄이기\n",
    "- N 의 약수는 $\\sqrt{N}$ 번 반복 필요 $=O(\\sqrt{N})$\n",
    "- N 의 제곱근까지 반복하며 약수를 구하고, 거기에 구한 수를 나눈 값도 포함시킨다"
   ]
  },
  {
   "cell_type": "code",
   "execution_count": 3,
   "id": "d0854ed4-08f8-4662-841b-083925c7c3bb",
   "metadata": {},
   "outputs": [
    {
     "data": {
      "text/plain": [
       "{1, 2, 4, 5, 8, 10, 20, 25, 40, 50, 100, 125, 200, 250, 500, 1000}"
      ]
     },
     "execution_count": 3,
     "metadata": {},
     "output_type": "execute_result"
    }
   ],
   "source": [
    "def divisor(n): \n",
    "    d=[i for i in range(1,int(n**.5)+1) if not(n%i)]\n",
    "    return set(d).union([int(n/i) for i in d])\n",
    "divisor(1000)"
   ]
  },
  {
   "cell_type": "markdown",
   "id": "4e15102a-8e44-45ad-855c-4f8bef2fcc70",
   "metadata": {},
   "source": [
    "---\n",
    "## 공약수 구하기"
   ]
  },
  {
   "cell_type": "markdown",
   "id": "257cbf69-30cd-4f61-a419-1eccd4a76488",
   "metadata": {},
   "source": [
    "### 방법1. 두 수의 같은 약수값 구하기"
   ]
  },
  {
   "cell_type": "code",
   "execution_count": 221,
   "id": "9a8541a1-4ada-4da5-bf30-ebefe8edad7d",
   "metadata": {},
   "outputs": [
    {
     "data": {
      "text/plain": [
       "[1, 2, 3, 6, 9, 18]"
      ]
     },
     "execution_count": 221,
     "metadata": {},
     "output_type": "execute_result"
    }
   ],
   "source": [
    "cd = lambda a,b: [i for i in range(1,min(a,b)+1) if not(a%i or b%i)]\n",
    "cd(72, 90)"
   ]
  },
  {
   "cell_type": "markdown",
   "id": "59c1cbe7-ffbe-497d-bc9e-f12c27b128b9",
   "metadata": {},
   "source": [
    "### 방법2. 여러 수의 같은 약수값 구하기"
   ]
  },
  {
   "cell_type": "code",
   "execution_count": 226,
   "id": "4255ac59-b9aa-4a5e-b79a-2dba8e5c2e6a",
   "metadata": {},
   "outputs": [
    {
     "data": {
      "text/plain": [
       "[1, 3, 9]"
      ]
     },
     "execution_count": 226,
     "metadata": {},
     "output_type": "execute_result"
    }
   ],
   "source": [
    "cd = lambda *args: [i for i in range(1,min(*args)+1) if all([not(x%i) for x in args])]\n",
    "cd(72, 90, 306, 99)"
   ]
  },
  {
   "cell_type": "markdown",
   "id": "008d44ea-56b7-43da-9455-3a08b6dd3a59",
   "metadata": {},
   "source": [
    "---\n",
    "## 최대공약수 구하기"
   ]
  },
  {
   "cell_type": "markdown",
   "id": "73b73329-4d16-4e23-8516-6c45dc7c6ad2",
   "metadata": {},
   "source": [
    "### 방법1. 라이브러리를 이용하여 최대공약수 구하기"
   ]
  },
  {
   "cell_type": "code",
   "execution_count": 190,
   "id": "ad60124b-ffcc-4208-857b-30bdd4624d1c",
   "metadata": {},
   "outputs": [
    {
     "data": {
      "text/plain": [
       "18"
      ]
     },
     "execution_count": 190,
     "metadata": {},
     "output_type": "execute_result"
    }
   ],
   "source": [
    "import math\n",
    "math.gcd(72,90,306)"
   ]
  },
  {
   "cell_type": "markdown",
   "id": "1fd617ee-2ff2-456b-a069-0fbc2b897679",
   "metadata": {},
   "source": [
    "### 방법2. 두 수의 같은 약수값 중 최대값 구하기"
   ]
  },
  {
   "cell_type": "code",
   "execution_count": 192,
   "id": "53dd3041-5dc1-4f2d-9d4f-aeb726cbf810",
   "metadata": {},
   "outputs": [
    {
     "data": {
      "text/plain": [
       "18"
      ]
     },
     "execution_count": 192,
     "metadata": {},
     "output_type": "execute_result"
    }
   ],
   "source": [
    "gcd = lambda a,b: [i for i in range(1,min(a,b)+1) if not(a%i or b%i)][-1]\n",
    "gcd(72, 90)"
   ]
  },
  {
   "cell_type": "markdown",
   "id": "745b6947-2e42-4cfd-86a1-4c7135789cfb",
   "metadata": {},
   "source": [
    "### 방법3. 여러 수의 같은 약수값 중 최대값 구하기"
   ]
  },
  {
   "cell_type": "code",
   "execution_count": 227,
   "id": "7e1b6f00-3be3-4fd8-97aa-ca2d760edd2c",
   "metadata": {},
   "outputs": [
    {
     "data": {
      "text/plain": [
       "18"
      ]
     },
     "execution_count": 227,
     "metadata": {},
     "output_type": "execute_result"
    }
   ],
   "source": [
    "gcd = lambda *args: [i for i in range(1,min(*args)+1) if all([not(x%i) for x in args])][-1]\n",
    "gcd(72, 90, 306)"
   ]
  },
  {
   "cell_type": "markdown",
   "id": "0b813c83-9d7a-40e5-9441-c7ae19606bb3",
   "metadata": {},
   "source": [
    "---\n",
    "## 소수 판별하기"
   ]
  },
  {
   "cell_type": "markdown",
   "id": "2b0d5eac-4d90-4cb8-b3ac-60da9815df4d",
   "metadata": {},
   "source": [
    "### 방법1. 약수의 개수가 2개(1, 해당수)만 있는 수"
   ]
  },
  {
   "cell_type": "code",
   "execution_count": 228,
   "id": "221a3957-38ed-4a64-beb8-09536483e529",
   "metadata": {},
   "outputs": [
    {
     "data": {
      "text/plain": [
       "True"
      ]
     },
     "execution_count": 228,
     "metadata": {},
     "output_type": "execute_result"
    }
   ],
   "source": [
    "divisor = lambda n: set(sum([[i,int(n/i)] for i in range(1,int(n**.5)+1) if not(n%i)],[]))\n",
    "isPrime = lambda n: len(divisor(n)) == 2\n",
    "isPrime(7)"
   ]
  },
  {
   "cell_type": "code",
   "execution_count": null,
   "id": "b398da21-b893-479e-b97e-cda7cb5759b2",
   "metadata": {},
   "outputs": [],
   "source": []
  }
 ],
 "metadata": {
  "kernelspec": {
   "display_name": "Python 3 (ipykernel)",
   "language": "python",
   "name": "python3"
  },
  "language_info": {
   "codemirror_mode": {
    "name": "ipython",
    "version": 3
   },
   "file_extension": ".py",
   "mimetype": "text/x-python",
   "name": "python",
   "nbconvert_exporter": "python",
   "pygments_lexer": "ipython3",
   "version": "3.12.5"
  }
 },
 "nbformat": 4,
 "nbformat_minor": 5
}
