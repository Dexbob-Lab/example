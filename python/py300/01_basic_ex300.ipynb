{
 "cells": [
  {
   "cell_type": "markdown",
   "metadata": {},
   "source": [
    "# 01. 초보자를 위한 파이썬 300제"
   ]
  },
  {
   "cell_type": "markdown",
   "metadata": {},
   "source": [
    "---\n",
    "## 001~010. print 시작하기"
   ]
  },
  {
   "cell_type": "markdown",
   "metadata": {},
   "source": [
    "### 001. print 기초  \n",
    "화면에 `Hello World` 문자열을 출력하세요."
   ]
  },
  {
   "cell_type": "code",
   "execution_count": 1,
   "metadata": {},
   "outputs": [
    {
     "name": "stdout",
     "output_type": "stream",
     "text": [
      "Hello World\n"
     ]
    }
   ],
   "source": [
    "print(\"Hello World\");"
   ]
  },
  {
   "cell_type": "markdown",
   "metadata": {},
   "source": [
    "### 002. print 기초  \n",
    "화면에 `Mary's cosmetics`을 출력하세요. (중간에 '가 있음에 주의하세요)"
   ]
  },
  {
   "cell_type": "code",
   "execution_count": 2,
   "metadata": {},
   "outputs": [
    {
     "name": "stdout",
     "output_type": "stream",
     "text": [
      "Mary's cosmetics\n"
     ]
    }
   ],
   "source": [
    "print(\"Mary's cosmetics\")"
   ]
  },
  {
   "cell_type": "markdown",
   "metadata": {},
   "source": [
    "### 003. print 기초  \n",
    "화면에 아래 문장을 출력하세요. (중간에 \"가 있음에 주의하세요.)\n",
    "> 신씨가 소리질렀다. \"도둑이야\"."
   ]
  },
  {
   "cell_type": "code",
   "execution_count": 3,
   "metadata": {},
   "outputs": [
    {
     "name": "stdout",
     "output_type": "stream",
     "text": [
      "신씨가 소리질렀다. \"도둑이야\".\n",
      "신씨가 소리질렀다. \"도둑이야\".\n"
     ]
    }
   ],
   "source": [
    "print(\"신씨가 소리질렀다. \\\"도둑이야\\\".\")\n",
    "print('신씨가 소리질렀다. \"도둑이야\".')"
   ]
  },
  {
   "cell_type": "markdown",
   "metadata": {
    "editable": true,
    "slideshow": {
     "slide_type": ""
    },
    "tags": []
   },
   "source": [
    "### 004. print 기초  \n",
    "화면에 `C:\\Windows`를 출력하세요."
   ]
  },
  {
   "cell_type": "code",
   "execution_count": 4,
   "metadata": {},
   "outputs": [
    {
     "name": "stdout",
     "output_type": "stream",
     "text": [
      "C:\\Windows\n",
      "C:\\Windows\n"
     ]
    }
   ],
   "source": [
    "print(r\"C:\\Windows\")\n",
    "print(\"C:\\\\Windows\")"
   ]
  },
  {
   "cell_type": "markdown",
   "metadata": {},
   "source": [
    "### 005. print 탭과 줄바꿈  \n",
    "다음 코드를 실행해보고 `\\t`와 `\\n`의 역할을 설명해보세요.\n",
    "> print(\"안녕하세요.\\n만나서\\t\\t반갑습니다.\")"
   ]
  },
  {
   "cell_type": "code",
   "execution_count": 5,
   "metadata": {},
   "outputs": [
    {
     "name": "stdout",
     "output_type": "stream",
     "text": [
      "안녕하세요.\n",
      "만나서\t\t반갑습니다.\n"
     ]
    }
   ],
   "source": [
    "# 줄바꿈(\\n), 탭(\\t)\n",
    "print(\"안녕하세요.\\n만나서\\t\\t반갑습니다.\")"
   ]
  },
  {
   "cell_type": "markdown",
   "metadata": {},
   "source": [
    "### 006. print 여러 데이터 출력  \n",
    "print 함수에 두 개의 단어를 입력한 예제입니다. 아래 코드의 출력 결과를 예상해봅시다.\n",
    "> print (\"오늘은\", \"일요일\")"
   ]
  },
  {
   "cell_type": "code",
   "execution_count": 6,
   "metadata": {},
   "outputs": [
    {
     "name": "stdout",
     "output_type": "stream",
     "text": [
      "오늘은 일요일\n"
     ]
    }
   ],
   "source": [
    "# 오늘은 일요일\n",
    "print (\"오늘은\", \"일요일\")"
   ]
  },
  {
   "cell_type": "markdown",
   "metadata": {},
   "source": [
    "### 007. print 기초  \n",
    "print() 함수를 사용하여 다음과 같이 출력하세요. (sep 이용)\n",
    "> naver;kakao;sk;samsung"
   ]
  },
  {
   "cell_type": "code",
   "execution_count": 7,
   "metadata": {},
   "outputs": [
    {
     "name": "stdout",
     "output_type": "stream",
     "text": [
      "naver;kakao;sk;samsung\n"
     ]
    }
   ],
   "source": [
    "print(\"naver\", \"kakao\", \"sk\", \"samsung\", sep=\";\")"
   ]
  },
  {
   "cell_type": "markdown",
   "metadata": {},
   "source": [
    "### 008. print 기초  \n",
    "print() 함수를 사용하여 다음과 같이 출력하세요.\n",
    "> naver/kakao/sk/samsung"
   ]
  },
  {
   "cell_type": "code",
   "execution_count": 8,
   "metadata": {},
   "outputs": [
    {
     "name": "stdout",
     "output_type": "stream",
     "text": [
      "naver\\kakao\\sk\\samsung\n"
     ]
    }
   ],
   "source": [
    "print(\"naver\", \"kakao\", \"sk\", \"samsung\", sep=\"\\\\\")"
   ]
  },
  {
   "cell_type": "markdown",
   "metadata": {},
   "source": [
    "### 009. print 줄바꿈  \n",
    "다음 코드를 수정하여 줄바꿈이 없이 출력하세요.  \n",
    "(힌트: end='') print 함수는 두 번 사용합니다. 세미콜론 (;)은 한줄에 여러 개의 명령을 작성하기 위해 사용합니다.  \n",
    "> print(\"first\"); print(\"second\")"
   ]
  },
  {
   "cell_type": "code",
   "execution_count": 9,
   "metadata": {},
   "outputs": [
    {
     "name": "stdout",
     "output_type": "stream",
     "text": [
      "first second\n"
     ]
    }
   ],
   "source": [
    "print(\"first\", end=\" \"); print(\"second\")"
   ]
  },
  {
   "cell_type": "markdown",
   "metadata": {},
   "source": [
    "### 010. 연산 결과 출력  \n",
    "5/3의 결과를 화면에 출력하세요."
   ]
  },
  {
   "cell_type": "code",
   "execution_count": 10,
   "metadata": {},
   "outputs": [
    {
     "name": "stdout",
     "output_type": "stream",
     "text": [
      "5/3 = 1.6666666666666667\n"
     ]
    }
   ],
   "source": [
    "print(\"5/3 =\", 5/3)"
   ]
  },
  {
   "cell_type": "markdown",
   "metadata": {},
   "source": [
    "---\n",
    "## 011~020. 변수  "
   ]
  },
  {
   "cell_type": "markdown",
   "metadata": {},
   "source": [
    "### 011. 변수 사용하기  \n",
    "삼성전자라는 변수로 50,000원을 바인딩해보세요. 삼성전자 주식 10주를 보유하고 있을 때 총 평가금액을 출력하세요."
   ]
  },
  {
   "cell_type": "code",
   "execution_count": 11,
   "metadata": {},
   "outputs": [
    {
     "name": "stdout",
     "output_type": "stream",
     "text": [
      "평가금액: 500,000 원\n",
      "평가금액: 500,000 원\n"
     ]
    }
   ],
   "source": [
    "삼성전자 = 50000\n",
    "print(\"평가금액:\",format(삼성전자*10, ','), \"원\")\n",
    "print(f\"평가금액: {삼성전자*10 :,} 원\")"
   ]
  },
  {
   "cell_type": "markdown",
   "metadata": {},
   "source": [
    "### 012. 변수 사용하기  \n",
    "다음 표는 삼성전자의 일부 투자정보입니다. 변수를 사용해서 시가총액, 현재가, PER 등을 바인딩해보세요.\n",
    "|항목|값|\n",
    "|:--|--:|\n",
    "|시가총액|298조|\n",
    "|현재가|50,000원|\n",
    "|PER|15.79|"
   ]
  },
  {
   "cell_type": "code",
   "execution_count": 12,
   "metadata": {},
   "outputs": [
    {
     "name": "stdout",
     "output_type": "stream",
     "text": [
      "시가총액: 298,000,000,000,000 원 \n",
      "현재가: 50,000 원 \n",
      "PER: 15.79\n"
     ]
    }
   ],
   "source": [
    "시가총액 = 298 * 10**12\n",
    "현재가 = 50000\n",
    "PER = 15.79\n",
    "print(f\"시가총액: {시가총액:,} 원 \\n현재가: {현재가:,} 원 \\nPER: {PER}\")"
   ]
  },
  {
   "cell_type": "markdown",
   "metadata": {},
   "source": [
    "### 013. 문자열 출력\n",
    "변수 s와 t에는 각각 문자열이 바인딩 되어있습니다.\n",
    "> s = \"hello\"  \n",
    "> t = \"python\"  \n",
    "\n",
    "두 변수를 이용하여 아래와 같이 출력해보세요.  \n",
    "실행 예:  \n",
    "> hello! python  "
   ]
  },
  {
   "cell_type": "code",
   "execution_count": 13,
   "metadata": {},
   "outputs": [
    {
     "name": "stdout",
     "output_type": "stream",
     "text": [
      "hello! python\n",
      "hello! python\n"
     ]
    }
   ],
   "source": [
    "s = \"hello\"\n",
    "t = \"python\"\n",
    "print(s+\"!\",t)\n",
    "print(f\"{s}! {t}\")"
   ]
  },
  {
   "cell_type": "markdown",
   "metadata": {},
   "source": [
    "### 014. 파이썬을 이용한 값 계산\n",
    "아래 코드의 실행 결과를 예상해보세요.  \n",
    "\n",
    "> 2 + 2 * 3 "
   ]
  },
  {
   "cell_type": "code",
   "execution_count": 14,
   "metadata": {},
   "outputs": [
    {
     "name": "stdout",
     "output_type": "stream",
     "text": [
      "8\n"
     ]
    }
   ],
   "source": [
    "# 8\n",
    "print(2 + 2 * 3)"
   ]
  },
  {
   "cell_type": "markdown",
   "metadata": {},
   "source": [
    "### 015. type 함수  \n",
    "type() 함수는 데이터 타입을 판별합니다. 변수 a에는 128 숫자가 바인딩돼 있어 type 함수가 int (정수)형임을 알려줍니다.  \n",
    "> a = 128  \n",
    "> print (type(a))\n",
    "\n",
    "> <class 'int'>\n",
    "\n",
    "아래 변수에 바인딩된 값의 타입을 판별해보세요.  \n",
    "> a = \"132\""
   ]
  },
  {
   "cell_type": "code",
   "execution_count": 15,
   "metadata": {},
   "outputs": [
    {
     "name": "stdout",
     "output_type": "stream",
     "text": [
      "<class 'str'>\n"
     ]
    }
   ],
   "source": [
    "a = \"132\"\n",
    "print(type(a))"
   ]
  },
  {
   "cell_type": "markdown",
   "metadata": {},
   "source": [
    "### 016. 문자열을 정수로 변환  \n",
    "문자열 '720'를 정수형으로 변환해보세요.  \n",
    "> num_str = \"720\""
   ]
  },
  {
   "cell_type": "code",
   "execution_count": 16,
   "metadata": {},
   "outputs": [
    {
     "name": "stdout",
     "output_type": "stream",
     "text": [
      "<class 'int'>\n"
     ]
    }
   ],
   "source": [
    "num_str = \"720\"\n",
    "num = int(num_str)\n",
    "print(type(num))"
   ]
  },
  {
   "cell_type": "markdown",
   "metadata": {},
   "source": [
    "### 017. 정수를 문자열 100으로 변환\n",
    "정수 100을 문자열 '100'으로 변환해보세요.\n",
    "> num = 100"
   ]
  },
  {
   "cell_type": "code",
   "execution_count": 17,
   "metadata": {},
   "outputs": [
    {
     "name": "stdout",
     "output_type": "stream",
     "text": [
      "<class 'str'>\n"
     ]
    }
   ],
   "source": [
    "num = 100\n",
    "num_str = str(num)\n",
    "print(type(num_str))"
   ]
  },
  {
   "cell_type": "markdown",
   "metadata": {
    "editable": true,
    "slideshow": {
     "slide_type": ""
    },
    "tags": []
   },
   "source": [
    "### 018. 문자열을 실수로 변환  \n",
    "문자열 \"15.79\"를 실수(float) 타입으로 변환해보세요."
   ]
  },
  {
   "cell_type": "code",
   "execution_count": 18,
   "metadata": {},
   "outputs": [
    {
     "name": "stdout",
     "output_type": "stream",
     "text": [
      "<class 'float'>\n"
     ]
    }
   ],
   "source": [
    "num_str = \"15.79\"\n",
    "num = float(num_str)\n",
    "print(type(num))"
   ]
  },
  {
   "cell_type": "markdown",
   "metadata": {},
   "source": [
    "### 019. 문자열을 정수로 변환  \n",
    "year라는 변수가 문자열 타입의 연도를 바인딩하고 있습니다. 이를 정수로 변환한 후 최근 3년의 연도를 화면에 출력해보세요.  \n",
    "> year = \"2020\""
   ]
  },
  {
   "cell_type": "code",
   "execution_count": 19,
   "metadata": {},
   "outputs": [
    {
     "name": "stdout",
     "output_type": "stream",
     "text": [
      "2017 2018 2019\n"
     ]
    }
   ],
   "source": [
    "year = \"2020\"\n",
    "num_year = int(year)\n",
    "print(num_year-3, num_year-2, num_year-1)"
   ]
  },
  {
   "cell_type": "markdown",
   "metadata": {},
   "source": [
    "### 020. 파이썬 계산  \n",
    "에어컨이 월 48,584원에 무이자 36개월의 조건으로 홈쇼핑에서 판매되고 있습니다. 총 금액은 계산한 후 이를 화면에 출력해보세요. (변수사용하기)  "
   ]
  },
  {
   "cell_type": "code",
   "execution_count": 20,
   "metadata": {},
   "outputs": [
    {
     "name": "stdout",
     "output_type": "stream",
     "text": [
      "총 금액: 1,749,024 원\n"
     ]
    }
   ],
   "source": [
    "price_per_month = 48584\n",
    "months = 36\n",
    "print(f\"총 금액: {price_per_month * months:,} 원\")"
   ]
  },
  {
   "cell_type": "markdown",
   "metadata": {},
   "source": [
    "---\n",
    "## 021~050. 파이썬 문자열  "
   ]
  },
  {
   "cell_type": "markdown",
   "metadata": {},
   "source": [
    "### 021. 문자열 인덱싱  \n",
    "letters가 바인딩하는 문자열에서 첫번째와 세번째 문자를 출력하세요.\n",
    "> letters = 'python'\n",
    "\n",
    "실행 예:  \n",
    "> p t  "
   ]
  },
  {
   "cell_type": "code",
   "execution_count": 21,
   "metadata": {},
   "outputs": [
    {
     "name": "stdout",
     "output_type": "stream",
     "text": [
      "p t\n"
     ]
    }
   ],
   "source": [
    "letters = 'python'\n",
    "print(letters[0], letters[2])"
   ]
  },
  {
   "cell_type": "markdown",
   "metadata": {},
   "source": [
    "### 022. 문자열 슬라이싱  \n",
    "자동차 번호가 다음과 같을 때 뒤에 4자리만 출력하세요.  \n",
    "> license_plate = \"24가 2210\"  \n",
    "> 실행 예: 2210  "
   ]
  },
  {
   "cell_type": "code",
   "execution_count": 22,
   "metadata": {},
   "outputs": [
    {
     "name": "stdout",
     "output_type": "stream",
     "text": [
      "2210\n"
     ]
    }
   ],
   "source": [
    "license_plate = \"24가 2210\"\n",
    "print(license_plate[-4:])"
   ]
  },
  {
   "cell_type": "markdown",
   "metadata": {},
   "source": [
    "### 023. 문자열 인덱싱  \n",
    "아래의 문자열에서 '홀' 만 출력하세요.  \n",
    "> string = \"홀짝홀짝홀짝\"  \n",
    "\n",
    "실행 예:  \n",
    "> 홀홀홀"
   ]
  },
  {
   "cell_type": "code",
   "execution_count": 23,
   "metadata": {},
   "outputs": [
    {
     "name": "stdout",
     "output_type": "stream",
     "text": [
      "홀홀홀\n"
     ]
    }
   ],
   "source": [
    "string = \"홀짝홀짝홀짝\" \n",
    "print(string[::2])"
   ]
  },
  {
   "cell_type": "markdown",
   "metadata": {},
   "source": [
    "### 024. 문자열 슬라이싱  \n",
    "문자열을 거꾸로 뒤집어 출력하세요.  \n",
    "> string = \"PYTHON\"\n",
    "\n",
    "실행 예:  \n",
    "> NOHTYP  "
   ]
  },
  {
   "cell_type": "code",
   "execution_count": 24,
   "metadata": {},
   "outputs": [
    {
     "name": "stdout",
     "output_type": "stream",
     "text": [
      "NOHTYP\n"
     ]
    }
   ],
   "source": [
    "string = \"PYTHON\"\n",
    "print(string[::-1])"
   ]
  },
  {
   "cell_type": "markdown",
   "metadata": {},
   "source": [
    "### 025. 문자열 치환  \n",
    "아래의 전화번호에서 하이푼 ('-')을 제거하고 출력하세요.  \n",
    "> phone_number = \"010-1111-2222\"  \n",
    "\n",
    "실행 예:  \n",
    "> 010 1111 2222  "
   ]
  },
  {
   "cell_type": "code",
   "execution_count": 25,
   "metadata": {},
   "outputs": [
    {
     "name": "stdout",
     "output_type": "stream",
     "text": [
      "010 1111 2222\n"
     ]
    }
   ],
   "source": [
    "phone_number = \"010-1111-2222\"\n",
    "print(phone_number.replace('-', ' '))"
   ]
  },
  {
   "cell_type": "markdown",
   "metadata": {},
   "source": [
    "### 026. 문자열 다루기  \n",
    "25번 문제의 전화번호를 아래와 같이 모두 붙여 출력하세요.  \n",
    "실행 예:  \n",
    "> 01011112222  "
   ]
  },
  {
   "cell_type": "code",
   "execution_count": 26,
   "metadata": {},
   "outputs": [
    {
     "name": "stdout",
     "output_type": "stream",
     "text": [
      "01011112222\n"
     ]
    }
   ],
   "source": [
    "phone_number = \"010-1111-2222\"\n",
    "print(phone_number.replace('-', ''))"
   ]
  },
  {
   "cell_type": "markdown",
   "metadata": {},
   "source": [
    "### 027. 문자열 다루기  \n",
    "url 에 저장된 웹 페이지 주소에서 도메인을 출력하세요.  \n",
    "> url = \"http://sharebook.kr\"\n",
    "\n",
    "실행 예: \n",
    "> kr"
   ]
  },
  {
   "cell_type": "code",
   "execution_count": 27,
   "metadata": {},
   "outputs": [
    {
     "name": "stdout",
     "output_type": "stream",
     "text": [
      "kr\n"
     ]
    }
   ],
   "source": [
    "url = \"http://sharebook.kr\"\n",
    "print(url.split('.')[-1])"
   ]
  },
  {
   "cell_type": "markdown",
   "metadata": {},
   "source": [
    "### 028. 문자열은 immutable  \n",
    "아래 코드의 실행 결과를 예상해보세요.  \n",
    "> lang = 'python'  \n",
    "> lang[0] = 'P'  \n",
    "> print(lang)  "
   ]
  },
  {
   "cell_type": "code",
   "execution_count": 28,
   "metadata": {},
   "outputs": [
    {
     "ename": "TypeError",
     "evalue": "'str' object does not support item assignment",
     "output_type": "error",
     "traceback": [
      "\u001b[1;31m---------------------------------------------------------------------------\u001b[0m",
      "\u001b[1;31mTypeError\u001b[0m                                 Traceback (most recent call last)",
      "Cell \u001b[1;32mIn[28], line 3\u001b[0m\n\u001b[0;32m      1\u001b[0m \u001b[38;5;66;03m# TypeError\u001b[39;00m\n\u001b[0;32m      2\u001b[0m lang \u001b[38;5;241m=\u001b[39m \u001b[38;5;124m'\u001b[39m\u001b[38;5;124mpython\u001b[39m\u001b[38;5;124m'\u001b[39m\n\u001b[1;32m----> 3\u001b[0m \u001b[43mlang\u001b[49m\u001b[43m[\u001b[49m\u001b[38;5;241;43m0\u001b[39;49m\u001b[43m]\u001b[49m \u001b[38;5;241m=\u001b[39m \u001b[38;5;124m'\u001b[39m\u001b[38;5;124mP\u001b[39m\u001b[38;5;124m'\u001b[39m\n\u001b[0;32m      4\u001b[0m \u001b[38;5;28mprint\u001b[39m(lang)\n",
      "\u001b[1;31mTypeError\u001b[0m: 'str' object does not support item assignment"
     ]
    }
   ],
   "source": [
    "# TypeError\n",
    "lang = 'python'\n",
    "lang[0] = 'P'\n",
    "print(lang)"
   ]
  },
  {
   "cell_type": "markdown",
   "metadata": {},
   "source": [
    "### 029. replace 메서드  \n",
    "아래 문자열에서 소문자 'a'를 대문자 'A'로 변경하세요.  \n",
    "> string = 'abcdfe2a354a32a'\n",
    "\n",
    "실행 예:  \n",
    "> Abcdfe2A354A32A   "
   ]
  },
  {
   "cell_type": "code",
   "execution_count": null,
   "metadata": {},
   "outputs": [],
   "source": [
    "string = 'abcdfe2a354a32a'\n",
    "print(string.replace('a', 'A'))"
   ]
  },
  {
   "cell_type": "markdown",
   "metadata": {},
   "source": [
    "### 030. replace 메서드  \n",
    "아래 코드의 실행 결과를 예상해보세요.  \n",
    "> string = 'abcd'  \n",
    "> string.replace('b', 'B')  \n",
    "> print(string)"
   ]
  },
  {
   "cell_type": "code",
   "execution_count": null,
   "metadata": {},
   "outputs": [],
   "source": [
    "# abcd (원본변경불가)\n",
    "string = 'abcd'\n",
    "string.replace('b', 'B')\n",
    "print(string)"
   ]
  },
  {
   "cell_type": "markdown",
   "metadata": {},
   "source": [
    "### 031. 문자열 합치기  \n",
    "아래 코드의 실행 결과를 예상해보세요.  \n",
    "> a = \"3\"  \n",
    "> b = \"4\"  \n",
    "> print(a + b)  "
   ]
  },
  {
   "cell_type": "code",
   "execution_count": null,
   "metadata": {},
   "outputs": [],
   "source": [
    "# \"34\"\n",
    "a = \"3\"\n",
    "b = \"4\"\n",
    "print(a + b)"
   ]
  },
  {
   "cell_type": "markdown",
   "metadata": {},
   "source": [
    "### 032. 문자열 곱하기  \n",
    "아래 코드의 실행 결과를 예상해보세요.  \n",
    "> print(\"Hi\" * 3)  "
   ]
  },
  {
   "cell_type": "code",
   "execution_count": null,
   "metadata": {},
   "outputs": [],
   "source": [
    "# HiHiHi\n",
    "print(\"Hi\" * 3)"
   ]
  },
  {
   "cell_type": "markdown",
   "metadata": {},
   "source": [
    "### 033. 문자열 곱하기  \n",
    "화면에 `'-'를 80개` 출력하세요.  \n",
    "실행 예:  \n",
    "> <pre>--------------------------------------------------------------------------------</pre>"
   ]
  },
  {
   "cell_type": "code",
   "execution_count": null,
   "metadata": {},
   "outputs": [],
   "source": [
    "print('-' * 80)"
   ]
  },
  {
   "cell_type": "markdown",
   "metadata": {},
   "source": [
    "### 034. 문자열 곱하기  \n",
    "변수에 다음과 같은 문자열이 바인딩되어 있습니다.  \n",
    "> t1 = 'python'  \n",
    "> t2 = 'java'  \n",
    "\n",
    "변수에 문자열 더하기와 문자열 곱하기를 사용해서 아래와 같이 출력해보세요.  \n",
    "실행 예:  \n",
    "> python java python java python java python java  "
   ]
  },
  {
   "cell_type": "code",
   "execution_count": null,
   "metadata": {},
   "outputs": [],
   "source": [
    "t1 = 'python'\n",
    "t2 = 'java'\n",
    "print((t1 + ' ' + t2 + ' ') * 4)"
   ]
  },
  {
   "cell_type": "markdown",
   "metadata": {},
   "source": [
    "### 035. 문자열 출력  \n",
    "변수에 다음과 같이 문자열과 정수가 바인딩되어 있을 때 `% formatting`을 사용해서 다음과 같이 출력해보세요.  \n",
    "> name1 = \"김민수\"  \n",
    "> age1 = 10  \n",
    "> name2 = \"이철희\"  \n",
    "> age2 = 13\n",
    "\n",
    "> 이름: 김민수 나이: 10  \n",
    "> 이름: 이철희 나이: 13  "
   ]
  },
  {
   "cell_type": "code",
   "execution_count": null,
   "metadata": {},
   "outputs": [],
   "source": [
    "name1 = \"김민수\" \n",
    "age1 = 10\n",
    "name2 = \"이철희\"\n",
    "age2 = 13\n",
    "print('이름: %s 나이: %d' % (name1, age1))\n",
    "print('이름: %s 나이: %d' % (name2, age2))"
   ]
  },
  {
   "cell_type": "markdown",
   "metadata": {},
   "source": [
    "### 036. 문자열 출력  \n",
    "문자열의 `format( )`메서드를 사용해서 035번 문제를 다시 풀어보세요.  "
   ]
  },
  {
   "cell_type": "code",
   "execution_count": null,
   "metadata": {},
   "outputs": [],
   "source": [
    "print('이름: {} 나이: {}'.format(name1, age1))\n",
    "print('이름: {} 나이: {}'.format(name2, age2))"
   ]
  },
  {
   "cell_type": "markdown",
   "metadata": {},
   "source": [
    "### 037. 문자열 출력  \n",
    "파이썬 3.6부터 지원하는 `f-string`을 사용해서 035번 문제를 다시 풀어보세요.  "
   ]
  },
  {
   "cell_type": "code",
   "execution_count": null,
   "metadata": {},
   "outputs": [],
   "source": [
    "print(f'이름: {name1} 나이: {age1}')\n",
    "print(f'이름: {name2} 나이: {age2}')"
   ]
  },
  {
   "cell_type": "markdown",
   "metadata": {},
   "source": [
    "### 038. 컴마 제거하기  \n",
    "삼성전자의 상장주식수가 다음과 같습니다. 컴마를 제거한 후 이를 정수 타입으로 변환해보세요.  \n",
    "> 상장주식수 = \"5,969,782,550\"  "
   ]
  },
  {
   "cell_type": "code",
   "execution_count": null,
   "metadata": {},
   "outputs": [],
   "source": [
    "상장주식수 = \"5,969,782,550\"\n",
    "num = int(상장주식수.replace(',', ''))\n",
    "print(num, type(num))"
   ]
  },
  {
   "cell_type": "markdown",
   "metadata": {},
   "source": [
    "### 039. 문자열 슬라이싱  \n",
    "다음과 같은 문자열에서 `'2020/03'`만 출력하세요.  \n",
    "> 분기 = \"2020/03(E) (IFRS연결)\"  "
   ]
  },
  {
   "cell_type": "code",
   "execution_count": null,
   "metadata": {},
   "outputs": [],
   "source": [
    "분기 = \"2020/03(E) (IFRS연결)\"\n",
    "print(분기[:7])\n",
    "print(분기[:분기.index('(')])"
   ]
  },
  {
   "cell_type": "markdown",
   "metadata": {},
   "source": [
    "### 040. strip 메서드  \n",
    "문자열의 좌우의 공백이 있을 때 이를 제거해보세요.  \n",
    "  \n",
    "> <pre> data = \"   삼성전자    \"</pre>  "
   ]
  },
  {
   "cell_type": "code",
   "execution_count": null,
   "metadata": {},
   "outputs": [],
   "source": [
    "data = \"   삼성전자    \"\n",
    "print(data.strip())"
   ]
  },
  {
   "cell_type": "markdown",
   "metadata": {},
   "source": [
    "### 041. upper 메서드  \n",
    "다음과 같은 문자열이 있을 때 이를 대문자 BTC_KRW로 변경하세요.  \n",
    "> ticker = \"btc_krw\"  "
   ]
  },
  {
   "cell_type": "code",
   "execution_count": null,
   "metadata": {},
   "outputs": [],
   "source": [
    "ticker = \"btc_krw\"\n",
    "print(ticker.upper())"
   ]
  },
  {
   "cell_type": "markdown",
   "metadata": {},
   "source": [
    "### 042. lower 메서드  \n",
    "다음과 같은 문자열이 있을 때 이를 소문자 btc_krw로 변경하세요. \n",
    "> ticker = \"BTC_KRW\"  "
   ]
  },
  {
   "cell_type": "code",
   "execution_count": null,
   "metadata": {},
   "outputs": [],
   "source": [
    "ticker = \"BTC_KRW\"\n",
    "print(ticker.lower())"
   ]
  },
  {
   "cell_type": "markdown",
   "metadata": {},
   "source": [
    "### 043. capitalize 메서드  \n",
    "문자열 'hello'가 있을 때 이를 'Hello'로 변경해보세요.  "
   ]
  },
  {
   "cell_type": "code",
   "execution_count": null,
   "metadata": {},
   "outputs": [],
   "source": [
    "print('hello'.capitalize())"
   ]
  },
  {
   "cell_type": "markdown",
   "metadata": {},
   "source": [
    "### 044. endswith 메서드  \n",
    "파일 이름이 문자열로 저장되어 있을 때 endswith 메서드를 사용해서 파일 이름이 'xlsx'로 끝나는지 확인해보세요.  \n",
    "> file_name = \"보고서.xlsx\"  "
   ]
  },
  {
   "cell_type": "code",
   "execution_count": null,
   "metadata": {},
   "outputs": [],
   "source": [
    "file_name = \"보고서.xlsx\"\n",
    "print(file_name.endswith('xlsx'))"
   ]
  },
  {
   "cell_type": "markdown",
   "metadata": {},
   "source": [
    "### 045. endswith 메서드  \n",
    "파일 이름이 문자열로 저장되어 있을 때 endswith 메서드를 사용해서 파일 이름이 'xlsx' 또는 'xls'로 끝나는지 확인해보세요.  \n",
    "> file_name = \"보고서.xlsx\"  "
   ]
  },
  {
   "cell_type": "code",
   "execution_count": null,
   "metadata": {},
   "outputs": [],
   "source": [
    "file_name = \"보고서.xlsx\"\n",
    "print(file_name.endswith('xlsx') or file_name.endswith('xls'))\n",
    "print(file_name.endswith(('xls', 'xlsx')))"
   ]
  },
  {
   "cell_type": "markdown",
   "metadata": {},
   "source": [
    "### 046. startswith 메서드  \n",
    "파일 이름이 문자열로 저장되어 있을 때 startswith 메서드를 사용해서 파일 이름이 '2020'로 시작하는지 확인해보세요.  \n",
    "> file_name = \"2020_보고서.xlsx\"  "
   ]
  },
  {
   "cell_type": "code",
   "execution_count": null,
   "metadata": {},
   "outputs": [],
   "source": [
    "file_name = \"2020_보고서.xlsx\"\n",
    "print(file_name.startswith('2020'))"
   ]
  },
  {
   "cell_type": "markdown",
   "metadata": {},
   "source": [
    "### 047. split 메서드  \n",
    "다음과 같은 문자열이 있을 때 공백을 기준으로 문자열을 나눠보세요.  \n",
    "> a = \"hello world\"  "
   ]
  },
  {
   "cell_type": "code",
   "execution_count": null,
   "metadata": {},
   "outputs": [],
   "source": [
    "a = \"hello world\"\n",
    "print(a.split(' '))"
   ]
  },
  {
   "cell_type": "markdown",
   "metadata": {},
   "source": [
    "### 048. split 메서드  \n",
    "다음과 같이 문자열이 있을 때 btc와 krw로 나눠보세요.  \n",
    "> ticker = \"btc_krw\"  "
   ]
  },
  {
   "cell_type": "code",
   "execution_count": null,
   "metadata": {},
   "outputs": [],
   "source": [
    "ticker = \"btc_krw\"\n",
    "print(ticker.split('_'))"
   ]
  },
  {
   "cell_type": "markdown",
   "metadata": {},
   "source": [
    "### 049. split 메서드  \n",
    "다음과 같이 날짜를 표현하는 문자열이 있을 때 연도, 월, 일로 나눠보세요.  \n",
    "> date = \"2020-05-01\"  "
   ]
  },
  {
   "cell_type": "code",
   "execution_count": null,
   "metadata": {},
   "outputs": [],
   "source": [
    "date = \"2020-05-01\"\n",
    "print(date.split('-'))"
   ]
  },
  {
   "cell_type": "markdown",
   "metadata": {},
   "source": [
    "### 050. rstrip 메서드  \n",
    "문자열의 오른쪽에 공백이 있을 때 이를 제거해보세요.  \n",
    "> <pre>data = \"039490     \"</pre>  "
   ]
  },
  {
   "cell_type": "code",
   "execution_count": null,
   "metadata": {},
   "outputs": [],
   "source": [
    "data = \"039490     \"\n",
    "print(data.rstrip())"
   ]
  },
  {
   "cell_type": "markdown",
   "metadata": {},
   "source": [
    "---\n",
    "## 051~070. 파이썬 리스트  "
   ]
  },
  {
   "cell_type": "markdown",
   "metadata": {},
   "source": [
    "### 051. 리스트 생성  \n",
    "2016년 11월 영화 예매 순위 기준 top3는 다음과 같습니다. 영화 제목을 movie_rank 이름의 리스트에 저장해보세요. (순위 정보는 저장하지 않습니다.)  \n",
    "\n",
    "|순위|영화|\n",
    "|--|--|\n",
    "|1|닥터 스트레인지|\n",
    "|2|스플릿|\n",
    "|3|럭키|"
   ]
  },
  {
   "cell_type": "markdown",
   "metadata": {},
   "source": [
    "### 052. 리스트 원소 추가\n",
    "051의 movie_rank 리스트에 \"배트맨\"을 추가하라."
   ]
  },
  {
   "cell_type": "markdown",
   "metadata": {},
   "source": [
    "### 053. 리스트 원소 추가 \n",
    "movie_rank 리스트에는 아래와 같이 네 개의 영화 제목이 바인딩되어 있다. \"슈퍼맨\"을 \"닥터 스트레인지\"와 \"스플릿\" 사이에 추가하라.  \n",
    "> movie_rank = ['닥터 스트레인지', '스플릿', '럭키', '배트맨']  "
   ]
  },
  {
   "cell_type": "markdown",
   "metadata": {},
   "source": [
    "### 054. 리스트 원소 삭제\n",
    "movie_rank 리스트에서 '럭키'를 삭제하라.  \n",
    "> movie_rank = ['닥터 스트레인지', '슈퍼맨', '스플릿', '럭키', '배트맨']"
   ]
  },
  {
   "cell_type": "markdown",
   "metadata": {},
   "source": [
    "### 055. 리스트 원소 삭제\n",
    "movie_rank 리스트에서 '스플릿' 과 '배트맨'을 삭제하라.  \n",
    "> movie_rank = ['닥터 스트레인지', '슈퍼맨', '스플릿', '배트맨']  "
   ]
  },
  {
   "cell_type": "markdown",
   "metadata": {},
   "source": [
    "### 056. 리스트 원소 결합  \n",
    "lang1과 lang2 리스트가 있을 때 lang1과 lang2의 원소를 모두 갖고 있는 langs 리스트를 만들어라.  \n",
    "> lang1 = [\"C\", \"C++\", \"JAVA\"]  \n",
    "> lang2 = [\"Python\", \"Go\", \"C#\"]\n",
    " \n",
    "실행 예:  \n",
    "> langs = ['C', 'C++', 'JAVA', 'Python', 'Go', 'C#']  "
   ]
  },
  {
   "cell_type": "markdown",
   "metadata": {},
   "source": [
    "### 057. 리스트 원소 최대, 최소  \n",
    "다음 리스트에서 최댓값과 최솟값을 출력하라. (힌트: min(), max() 함수 사용)  \n",
    "> nums = [1, 2, 3, 4, 5, 6, 7]  \n",
    "\n",
    "실행 예:  \n",
    "> max:  7  \n",
    "> min:  1  "
   ]
  },
  {
   "cell_type": "markdown",
   "metadata": {},
   "source": [
    "### 058. 리스트 원소 합  \n",
    "다음 리스트의 합을 출력하라.  \n",
    "> nums = [1, 2, 3, 4, 5]  \n",
    "\n",
    "실행 예:\n",
    "> 15"
   ]
  },
  {
   "cell_type": "markdown",
   "metadata": {},
   "source": [
    "### 059. 리스트 원소 개수  \n",
    "다음 리스트에 저장된 데이터의 개수를 화면에 구하하라.  \n",
    "> cook = [\"피자\", \"김밥\", \"만두\", \"양념치킨\", \"족발\", \"피자\", \"김치만두\", \"쫄면\", \"소시지\", \"라면\", \"팥빙수\", \"김치전\"]  "
   ]
  },
  {
   "cell_type": "markdown",
   "metadata": {},
   "source": [
    "### 060. 리스트 원소 평균\n",
    "다음 리스트의 평균을 출력하라.  \n",
    "> nums = [1, 2, 3, 4, 5]\n",
    "\n",
    "실행 예:  \n",
    "> 3.0"
   ]
  },
  {
   "cell_type": "markdown",
   "metadata": {},
   "source": [
    "### 061. 리스트 슬라이싱  \n",
    "price 변수에는 날짜와 종가 정보가 저장돼 있다. 날짜 정보를 제외하고 가격 정보만을 출력하라. (힌트 : 슬라이싱)  \n",
    "> price = ['20180728', 100, 130, 140, 150, 160, 170]  \n",
    "\n",
    "출력 예:\n",
    "> [100, 130, 140, 150, 160, 170]"
   ]
  },
  {
   "cell_type": "markdown",
   "metadata": {},
   "source": [
    "### 062. 리스트 슬라이싱  \n",
    "슬라이싱을 사용해서 홀수만 출력하라.  \n",
    "> nums = [1, 2, 3, 4, 5, 6, 7, 8, 9, 10]\n",
    "\n",
    "실행 예:  \n",
    ">  [1, 3, 5, 7, 9]  "
   ]
  },
  {
   "cell_type": "markdown",
   "metadata": {},
   "source": [
    "### 063. 리스트 슬라이싱  \n",
    "슬라이싱을 사용해서 짝수만 출력하라.  \n",
    "> nums = [1, 2, 3, 4, 5, 6, 7, 8, 9, 10]  \n",
    "\n",
    "실행 예:\n",
    ">  [2, 4, 6, 8, 10]"
   ]
  },
  {
   "cell_type": "markdown",
   "metadata": {},
   "source": [
    "### 064. 리스트 슬라이싱\n",
    "슬라이싱을 사용해서 리스트의 숫자를 역 방향으로 출력하라.  \n",
    "> nums = [1, 2, 3, 4, 5]\n",
    "\n",
    "실행 예:  \n",
    "> [5, 4, 3, 2, 1]  "
   ]
  },
  {
   "cell_type": "markdown",
   "metadata": {},
   "source": [
    "### 065. 리스트 슬라이싱  \n",
    "interest 리스트에는 아래의 데이터가 바인딩되어 있다.\n",
    "> interest = ['삼성전자', 'LG전자', 'Naver']  \n",
    "> interest 리스트를 사용하여 아래와 같이 화면에 출력하라.  \n",
    "\n",
    "출력 예:  \n",
    "> 삼성전자 Naver  "
   ]
  },
  {
   "cell_type": "markdown",
   "metadata": {},
   "source": [
    "### 066. join 메서드\n",
    "interest 리스트에는 아래의 데이터가 바인딩되어 있다.  \n",
    "> interest = ['삼성전자', 'LG전자', 'Naver', 'SK하이닉스', '미래에셋대우']  \n",
    "> interest 리스트를 사용하여 아래와 같이 화면에 출력하라.  \n",
    "\n",
    "출력 예:  \n",
    "> 삼성전자 LG전자 Naver SK하이닉스 미래에셋대우  "
   ]
  },
  {
   "cell_type": "markdown",
   "metadata": {},
   "source": [
    "### 067 join 메서드  \n",
    "interest 리스트에는 아래의 데이터가 바인딩되어 있다.  \n",
    "> interest = ['삼성전자', 'LG전자', 'Naver', 'SK하이닉스', '미래에셋대우']  \n",
    "> interest 리스트를 사용하여 아래와 같이 화면에 출력하라.  \n",
    "\n",
    "출력 예:  \n",
    "> 삼성전자/LG전자/Naver/SK하이닉스/미래에셋대우  "
   ]
  },
  {
   "cell_type": "markdown",
   "metadata": {},
   "source": [
    "### 068. join 메서드  \n",
    "interest 리스트에는 아래의 데이터가 바인딩되어 있다.  \n",
    "> interest = ['삼성전자', 'LG전자', 'Naver', 'SK하이닉스', '미래에셋대우']  \n",
    "\n",
    "join() 메서드를 사용해서 interest 리스트를 아래와 같이 화면에 출력하라.  \n",
    "\n",
    "출력 예:\n",
    "> 삼성전자  \n",
    "> LG전자  \n",
    "> Naver  \n",
    "> SK하이닉스  \n",
    "> 미래에셋대우  "
   ]
  },
  {
   "cell_type": "markdown",
   "metadata": {},
   "source": [
    "### 069. 문자열 split 메서드  \n",
    "회사 이름이 슬래시 ('/')로 구분되어 하나의 문자열로 저장되어 있다.  \n",
    "> string = \"삼성전자/LG전자/Naver\"  \n",
    "\n",
    "이를 interest 이름의 리스트로 분리 저장하라.  \n",
    "\n",
    "실행 예:  \n",
    "> print(interest)  \n",
    "> ['삼성전자', 'LG전자', 'Naver']  "
   ]
  },
  {
   "cell_type": "markdown",
   "metadata": {},
   "source": [
    "### 070. 리스트 정렬  \n",
    "리스트에 있는 값을 오름차순으로 정렬하세요.  \n",
    "> data = [2, 4, 3, 1, 5, 10, 9]  "
   ]
  },
  {
   "cell_type": "markdown",
   "metadata": {},
   "source": [
    "---\n",
    "## 071~080. 파이썬 튜플"
   ]
  },
  {
   "cell_type": "markdown",
   "metadata": {},
   "source": [
    "### 071. 튜플  \n",
    "my_variable 이름의 비어있는 튜플을 만들라.  "
   ]
  },
  {
   "cell_type": "markdown",
   "metadata": {},
   "source": [
    "### 072. 튜플  \n",
    "2016년 11월 영화 예매 순위 기준 top3는 다음과 같다. 영화 제목을 movie_rank 이름의 튜플에 저장하라. (순위 정보는 저장하지 않는다.)  \n",
    "\n",
    "|순위|영화|\n",
    "|--|--|\n",
    "|1|닥터 스트레인지|\n",
    "|2|스플릿|\n",
    "|3|럭키|"
   ]
  },
  {
   "cell_type": "markdown",
   "metadata": {},
   "source": [
    "### 073. 튜플  \n",
    "숫자 1 이 저장된 튜플을 생성하라."
   ]
  },
  {
   "cell_type": "markdown",
   "metadata": {},
   "source": []
  }
 ],
 "metadata": {
  "kernelspec": {
   "display_name": "Python 3 (ipykernel)",
   "language": "python",
   "name": "python3"
  },
  "language_info": {
   "codemirror_mode": {
    "name": "ipython",
    "version": 3
   },
   "file_extension": ".py",
   "mimetype": "text/x-python",
   "name": "python",
   "nbconvert_exporter": "python",
   "pygments_lexer": "ipython3",
   "version": "3.12.5"
  }
 },
 "nbformat": 4,
 "nbformat_minor": 4
}
